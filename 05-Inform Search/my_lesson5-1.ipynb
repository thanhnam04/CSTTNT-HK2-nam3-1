{
 "cells": [
  {
   "cell_type": "markdown",
   "id": "67e9acfa",
   "metadata": {},
   "source": [
    "# CÁC THUẬT GIẢI TÔ MÀU ĐỒ THỊ  \n",
    " "
   ]
  },
  {
   "cell_type": "markdown",
   "id": "e1099100",
   "metadata": {},
   "source": [
    "## Ví dụ 1: Trạm phát sóng\n",
    "\n",
    "Một công ty có 8 đài phát thanh A, B, C, D, E, F, G, H. Khoảng cách giữa các đài (đơn vị km) được cho trong ma trận như sau:\n",
    "\n",
    "- Các đài có khoảng cách **≥ 100km** thì **không được dùng chung một trạm phát sóng**.\n",
    "\n",
    "**Yêu cầu:** Hãy lắp đặt các trạm phát sóng sao cho số trạm cần lắp là ít nhất.\n"
   ]
  },
  {
   "cell_type": "markdown",
   "id": "bcea6101",
   "metadata": {},
   "source": [
    "![image](1.png)"
   ]
  },
  {
   "cell_type": "code",
   "execution_count": 5,
   "id": "cc5a1091",
   "metadata": {},
   "outputs": [
    {
     "ename": "ModuleNotFoundError",
     "evalue": "No module named 'numpy'",
     "output_type": "error",
     "traceback": [
      "\u001b[31m---------------------------------------------------------------------------\u001b[39m",
      "\u001b[31mModuleNotFoundError\u001b[39m                       Traceback (most recent call last)",
      "\u001b[36mCell\u001b[39m\u001b[36m \u001b[39m\u001b[32mIn[5]\u001b[39m\u001b[32m, line 1\u001b[39m\n\u001b[32m----> \u001b[39m\u001b[32m1\u001b[39m \u001b[38;5;28;01mimport\u001b[39;00m\u001b[38;5;250m \u001b[39m\u001b[34;01mnumpy\u001b[39;00m\u001b[38;5;250m \u001b[39m\u001b[38;5;28;01mas\u001b[39;00m\u001b[38;5;250m \u001b[39m\u001b[34;01mnp\u001b[39;00m\n\u001b[32m      3\u001b[39m \u001b[38;5;66;03m# Ma trận khoảng cách\u001b[39;00m\n\u001b[32m      4\u001b[39m graph = np.array([\n\u001b[32m      5\u001b[39m     [\u001b[32m0\u001b[39m, \u001b[32m100\u001b[39m, \u001b[32m50\u001b[39m, \u001b[32m30\u001b[39m, \u001b[32m200\u001b[39m, \u001b[32m150\u001b[39m, \u001b[32m40\u001b[39m, \u001b[32m120\u001b[39m],\n\u001b[32m      6\u001b[39m     [\u001b[32m0\u001b[39m, \u001b[32m0\u001b[39m, \u001b[32m30\u001b[39m, \u001b[32m80\u001b[39m, \u001b[32m120\u001b[39m, \u001b[32m50\u001b[39m, \u001b[32m200\u001b[39m, \u001b[32m150\u001b[39m],\n\u001b[32m   (...)\u001b[39m\u001b[32m     12\u001b[39m     [\u001b[32m0\u001b[39m, \u001b[32m0\u001b[39m, \u001b[32m0\u001b[39m, \u001b[32m0\u001b[39m, \u001b[32m0\u001b[39m, \u001b[32m0\u001b[39m, \u001b[32m0\u001b[39m, \u001b[32m0\u001b[39m]\n\u001b[32m     13\u001b[39m ])\n",
      "\u001b[31mModuleNotFoundError\u001b[39m: No module named 'numpy'"
     ]
    }
   ],
   "source": [
    "import numpy as np\n",
    "\n",
    "# Ma trận khoảng cách\n",
    "graph = np.array([\n",
    "    [0, 100, 50, 30, 200, 150, 40, 120],\n",
    "    [0, 0, 30, 80, 120, 50, 200, 150],\n",
    "    [0, 0, 0, 120, 100, 30, 80, 50],\n",
    "    [0, 0, 0, 0, 50, 120, 150, 30],\n",
    "    [0, 0, 0, 0, 0, 200, 120, 120],\n",
    "    [0, 0, 0, 0, 0, 0, 180, 150],\n",
    "    [0, 0, 0, 0, 0, 0, 0, 50],\n",
    "    [0, 0, 0, 0, 0, 0, 0, 0]\n",
    "])\n",
    "\n",
    "def optimize_stations(graph):\n",
    "    n = len(graph)\n",
    "    stations = set()\n",
    "    covered = set()\n",
    "    \n",
    "    for i in range(n):\n",
    "        if i not in covered:\n",
    "            stations.add(i)\n",
    "            for j in range(n):\n",
    "                if graph[i][j] > 0 and graph[i][j] <= 100:\n",
    "                    covered.add(j)\n",
    "    \n",
    "    return stations, len(stations)\n",
    "\n",
    "stations, num_stations = optimize_stations(graph)\n",
    "print(f\"Số trạm phát sóng tối thiểu: {num_stations}\")\n",
    "print(f\"Trạm phát sóng: {', '.join([chr(65 + i) for i in stations])}\")"
   ]
  },
  {
   "cell_type": "markdown",
   "id": "7c71f3b9",
   "metadata": {},
   "source": [
    "## Vi du 2\n",
    "![image](2.png)"
   ]
  },
  {
   "cell_type": "code",
   "execution_count": 8,
   "id": "5a77081f",
   "metadata": {},
   "outputs": [
    {
     "name": "stdout",
     "output_type": "stream",
     "text": [
      "Minimum number of exam sessions required: 4\n",
      "Session 1: A, D, F, H\n",
      "Session 2: B, E\n",
      "Session 3: C, G\n",
      "Session 4: I\n"
     ]
    }
   ],
   "source": [
    "# Define the subjects\n",
    "subjects = ['A', 'B', 'C', 'D', 'E', 'F', 'G', 'H', 'I']\n",
    "\n",
    "# Define the conflicting pairs (edges)\n",
    "conflicts = [\n",
    "    ('A', 'B'), ('A', 'C'), ('B', 'C'),  # ABC\n",
    "    ('A', 'E'),                           # AE\n",
    "    ('B', 'D'), ('C', 'D'),              # BCD\n",
    "    ('B', 'H'), ('B', 'I'), ('H', 'I'),  # BHI\n",
    "    ('E', 'F'), ('E', 'G'), ('F', 'G'),  # EFG\n",
    "    ('E', 'I'),                           # EI\n",
    "    ('G', 'H'), ('G', 'I')               # GHI\n",
    "]\n",
    "\n",
    "# Create an adjacency list for the graph\n",
    "graph = {subject: [] for subject in subjects}\n",
    "for s1, s2 in conflicts:\n",
    "    graph[s1].append(s2)\n",
    "    graph[s2].append(s1)\n",
    "\n",
    "# Greedy coloring algorithm to assign subjects to exam sessions\n",
    "def schedule_exams(subjects, graph):\n",
    "    # Initialize sessions (colors) for each subject\n",
    "    sessions = {}\n",
    "    for subject in subjects:\n",
    "        # Get the sessions of neighboring subjects (those that conflict)\n",
    "        used_sessions = [sessions.get(neighbor) for neighbor in graph[subject] if neighbor in sessions]\n",
    "        # Find the first available session (smallest number not used by neighbors)\n",
    "        session = 0\n",
    "        while session in used_sessions:\n",
    "            session += 1\n",
    "        sessions[subject] = session\n",
    "    \n",
    "    # Group subjects by session\n",
    "    session_groups = {}\n",
    "    for subject, session in sessions.items():\n",
    "        if session not in session_groups:\n",
    "            session_groups[session] = []\n",
    "        session_groups[session].append(subject)\n",
    "    \n",
    "    return session_groups\n",
    "\n",
    "# Run the scheduling\n",
    "result = schedule_exams(subjects, graph)\n",
    "\n",
    "# Print the result\n",
    "num_sessions = len(result)\n",
    "print(f\"Minimum number of exam sessions required: {num_sessions}\")\n",
    "for session, subjects_in_session in result.items():\n",
    "    print(f\"Session {session + 1}: {', '.join(subjects_in_session)}\")"
   ]
  },
  {
   "cell_type": "markdown",
   "id": "9f3a561f",
   "metadata": {},
   "source": [
    "## Ví dụ 3\n",
    "![image](3.png)"
   ]
  },
  {
   "cell_type": "code",
   "execution_count": 7,
   "id": "a7ef18dd",
   "metadata": {},
   "outputs": [
    {
     "name": "stdout",
     "output_type": "stream",
     "text": [
      "Minimum number of adjacent 'know each other' pairs: 0\n",
      "One optimal arrangement: a -> b -> c -> g -> f -> e -> d -> h -> i\n"
     ]
    }
   ],
   "source": [
    "from itertools import permutations\n",
    "\n",
    "# Define the people\n",
    "people = ['a', 'b', 'c', 'd', 'e', 'f', 'g', 'h', 'i']\n",
    "\n",
    "# Define the \"know each other\" pairs\n",
    "know_pairs = [('a', 'c'), ('b', 'd'), ('b', 'e'), ('a', 'd'), ('a', 'g'), \n",
    "              ('c', 'd'), ('c', 'f'), ('d', 'f'), ('d', 'g'), ('e', 'g'), \n",
    "              ('e', 'h'), ('g', 'h'), ('g', 'i')]\n",
    "\n",
    "# Convert pairs to a set for quick lookup (both directions)\n",
    "know_set = set(know_pairs).union(set((p2, p1) for p1, p2 in know_pairs))\n",
    "\n",
    "# Function to count adjacent \"know each other\" pairs in a circular arrangement\n",
    "def count_adjacent_pairs(arrangement):\n",
    "    count = 0\n",
    "    n = len(arrangement)\n",
    "    for i in range(n):\n",
    "        p1 = arrangement[i]\n",
    "        p2 = arrangement[(i + 1) % n]  # Circular: last person connects to first\n",
    "        if (p1, p2) in know_set:\n",
    "            count += 1\n",
    "    return count\n",
    "\n",
    "# Find the arrangement with the minimum number of adjacent \"know each other\" pairs\n",
    "min_adjacent = float('inf')\n",
    "best_arrangement = None\n",
    "\n",
    "# Try all permutations of people\n",
    "for perm in permutations(people):\n",
    "    adjacent_count = count_adjacent_pairs(perm)\n",
    "    if adjacent_count < min_adjacent:\n",
    "        min_adjacent = adjacent_count\n",
    "        best_arrangement = perm\n",
    "\n",
    "# Output the result\n",
    "print(f\"Minimum number of adjacent 'know each other' pairs: {min_adjacent}\")\n",
    "print(f\"One optimal arrangement: {' -> '.join(best_arrangement)}\")"
   ]
  }
 ],
 "metadata": {
  "kernelspec": {
   "display_name": "Python 3",
   "language": "python",
   "name": "python3"
  },
  "language_info": {
   "codemirror_mode": {
    "name": "ipython",
    "version": 3
   },
   "file_extension": ".py",
   "mimetype": "text/x-python",
   "name": "python",
   "nbconvert_exporter": "python",
   "pygments_lexer": "ipython3",
   "version": "3.12.1"
  }
 },
 "nbformat": 4,
 "nbformat_minor": 5
}
